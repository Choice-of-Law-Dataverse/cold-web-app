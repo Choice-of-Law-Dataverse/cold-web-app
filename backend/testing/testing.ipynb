{
 "cells": [
  {
   "cell_type": "code",
   "execution_count": null,
   "metadata": {},
   "outputs": [
    {
     "ename": "",
     "evalue": "",
     "output_type": "error",
     "traceback": [
      "\u001b[1;31mFailed to start the Kernel. \n",
      "\u001b[1;31mUnable to start Kernel '.venv (Python 3.12.2)' due to a timeout waiting for the ports to get used. \n",
      "\u001b[1;31mView Jupyter <a href='command:jupyter.viewOutput'>log</a> for further details."
     ]
    }
   ],
   "source": [
    "# import libraries\n",
    "import psycopg2\n",
    "from psycopg2 import sql\n",
    "from psycopg2.extras import RealDictCursor\n",
    "import os\n",
    "from dotenv import load_dotenv\n",
    "\n",
    "# Load environment variables\n",
    "load_dotenv()\n",
    "POSTGRES_AZURE_DBNAME = os.getenv(\"POSTGRES_AZURE_DBNAME\")\n",
    "POSTGRES_AZURE_HOST = os.getenv(\"POSTGRES_AZURE_HOST\")\n",
    "POSTGRES_AZURE_USER = os.getenv(\"POSTGRES_AZURE_USER\")\n",
    "POSTGRES_AZURE_PASSWORD = os.getenv(\"POSTGRES_AZURE_PASSWORD\")"
   ]
  },
  {
   "cell_type": "code",
   "execution_count": 3,
   "metadata": {},
   "outputs": [
    {
     "name": "stdout",
     "output_type": "stream",
     "text": [
      "Connection to PostgreSQL database on Azure established successfully!\n"
     ]
    }
   ],
   "source": [
    "def test_connection(host, dbname, user, password):\n",
    "    try:\n",
    "        # Connect to the PostgreSQL database\n",
    "        conn = psycopg2.connect(host=host, dbname=dbname, user=user, password=password, sslmode=\"require\")\n",
    "        \n",
    "        # Connection successful\n",
    "        print(\"Connection to PostgreSQL database on Azure established successfully!\")\n",
    "        \n",
    "        # Close the connection\n",
    "        conn.close()\n",
    "    except Exception as e:\n",
    "        # Connection failed\n",
    "        print(f\"Connection to PostgreSQL database on Azure failed: {e}\")\n",
    "\n",
    "test_connection(host, dbname, user, password)"
   ]
  },
  {
   "cell_type": "code",
   "execution_count": 4,
   "metadata": {},
   "outputs": [],
   "source": [
    "def search_all_tables(search_string):\n",
    "    results = {}\n",
    "    total_matches = 0  # Initialize a counter for the total number of matches\n",
    "\n",
    "    search_terms = search_string.split()\n",
    "    conn = psycopg2.connect(dbname=POSTGRES_AZURE_DBNAME, user=POSTGRES_AZURE_USER, password=POSTGRES_AZURE_PASSWORD, host=POSTGRES_AZURE_HOST, sslmode=\"require\")\n",
    "    cur = conn.cursor()\n",
    "\n",
    "    try:\n",
    "        cur.execute(\"SELECT table_name FROM information_schema.tables WHERE table_schema = 'public'\")\n",
    "        tables = cur.fetchall()\n",
    "\n",
    "        for table in tables:\n",
    "            table_name = table[0]\n",
    "            cur.execute(sql.SQL(\"SELECT column_name FROM information_schema.columns WHERE table_name = %s AND table_schema = 'public'\"), (table_name,))\n",
    "            columns = cur.fetchall()\n",
    "            if not columns:\n",
    "                continue\n",
    "\n",
    "            term_query_parts = []\n",
    "            for term in search_terms:\n",
    "                column_conditions = [sql.SQL(\"CAST({} AS TEXT) ILIKE %s\").format(sql.Identifier(column[0])) for column in columns]\n",
    "                term_condition = sql.SQL(\" OR \").join(column_conditions)\n",
    "                term_query_parts.append(sql.SQL(\"(\") + term_condition + sql.SQL(\")\"))\n",
    "\n",
    "            full_query = sql.SQL(\" AND \").join(term_query_parts)\n",
    "            query = sql.SQL(\"SELECT * FROM {} WHERE \").format(sql.Identifier(table_name)) + full_query\n",
    "            params = [f\"%{term}%\" for term in search_terms for _ in range(len(columns))]\n",
    "            \n",
    "            #print(\"Now executing:\\n\", query)\n",
    "            cur.execute(query, params)\n",
    "            rows = cur.fetchall()\n",
    "\n",
    "            if rows:\n",
    "                table_results = {\n",
    "                    'matches': len(rows),\n",
    "                    'results': []\n",
    "                }\n",
    "                for row in rows:\n",
    "                    result_details = {col.name: row[idx] if isinstance(row[idx], (int, float, str, bool)) else str(row[idx]) for idx, col in enumerate(cur.description)}\n",
    "                    table_results['results'].append(result_details)\n",
    "                results[table_name] = table_results\n",
    "                total_matches += len(rows)  # Increment the total_matches by the number of matches found\n",
    "                \n",
    "    except psycopg2.Error as e:\n",
    "        print(f\"Error: {e}\")\n",
    "        return jsonify({'error': str(e)}), 500\n",
    "    finally:\n",
    "        cur.close()\n",
    "        conn.close()\n",
    "\n",
    "    # Wrap the total matches and all table results into a final JSON response\n",
    "    final_results = {\n",
    "        'total_matches': total_matches,\n",
    "        'tables': results\n",
    "    }\n",
    "    return final_results  # Convert the dictionary to JSON format and return it\n",
    "\n",
    "results = search_all_tables(\"switzerland\")"
   ]
  },
  {
   "cell_type": "code",
   "execution_count": 5,
   "metadata": {},
   "outputs": [
    {
     "data": {
      "text/plain": [
       "{'total_matches': 0, 'tables': {}}"
      ]
     },
     "execution_count": 5,
     "metadata": {},
     "output_type": "execute_result"
    }
   ],
   "source": [
    "results"
   ]
  },
  {
   "cell_type": "code",
   "execution_count": null,
   "metadata": {},
   "outputs": [],
   "source": [
    "def search_all_tables(search_string):\n",
    "    results = {}\n",
    "    total_matches = 0  # Initialize a counter for the total number of matches\n",
    "\n",
    "    search_terms = search_string.split()\n",
    "    conn = psycopg2.connect(dbname=POSTGRES_AZURE_DBNAME, user=POSTGRES_AZURE_USER, password=POSTGRES_AZURE_PASSWORD, host=POSTGRES_AZURE_HOST, sslmode=\"require\")\n",
    "    cur = conn.cursor()\n",
    "\n",
    "    try:\n",
    "        cur.execute(\"SELECT table_name FROM information_schema.tables WHERE table_schema = 'public'\")\n",
    "        tables = cur.fetchall()\n",
    "\n",
    "        for table in tables:\n",
    "            table_name = table[0]\n",
    "            cur.execute(sql.SQL(\"SELECT column_name FROM information_schema.columns WHERE table_name = %s AND table_schema = 'public'\"), (table_name,))\n",
    "            columns = cur.fetchall()\n",
    "            if not columns:\n",
    "                continue\n",
    "\n",
    "            term_query_parts = []\n",
    "            for term in search_terms:\n",
    "                column_conditions = [sql.SQL(\"CAST({} AS TEXT) ILIKE %s\").format(sql.Identifier(column[0])) for column in columns]\n",
    "                term_condition = sql.SQL(\" OR \").join(column_conditions)\n",
    "                term_query_parts.append(sql.SQL(\"(\") + term_condition + sql.SQL(\")\"))\n",
    "\n",
    "            full_query = sql.SQL(\" AND \").join(term_query_parts)\n",
    "            query = sql.SQL(\"SELECT * FROM {} WHERE \").format(sql.Identifier(table_name)) + full_query\n",
    "            params = [f\"%{term}%\" for term in search_terms for _ in range(len(columns))]\n",
    "            \n",
    "            #print(\"Now executing:\\n\", query)\n",
    "            cur.execute(query, params)\n",
    "            rows = cur.fetchall()\n",
    "\n",
    "            if rows:\n",
    "                table_results = {\n",
    "                    'matches': len(rows),\n",
    "                    'results': []\n",
    "                }\n",
    "                for row in rows:\n",
    "                    result_details = {col.name: row[idx] if isinstance(row[idx], (int, float, str, bool)) else str(row[idx]) for idx, col in enumerate(cur.description)}\n",
    "                    table_results['results'].append(result_details)\n",
    "                results[table_name] = table_results\n",
    "                total_matches += len(rows)  # Increment the total_matches by the number of matches found\n",
    "                \n",
    "    except psycopg2.Error as e:\n",
    "        print(f\"Error: {e}\")\n",
    "        return jsonify({'error': str(e)}), 500\n",
    "    finally:\n",
    "        cur.close()\n",
    "        conn.close()\n",
    "\n",
    "    # Wrap the total matches and all table results into a final JSON response\n",
    "    final_results = {\n",
    "        'total_matches': total_matches,\n",
    "        'tables': results\n",
    "    }\n",
    "    return final_results  # Convert the dictionary to JSON format and return it\n",
    "\n",
    "results = search_all_tables(\"switzerland\")"
   ]
  }
 ],
 "metadata": {
  "kernelspec": {
   "display_name": "Python 3",
   "language": "python",
   "name": "python3"
  },
  "language_info": {
   "codemirror_mode": {
    "name": "ipython",
    "version": 3
   },
   "file_extension": ".py",
   "mimetype": "text/x-python",
   "name": "python",
   "nbconvert_exporter": "python",
   "pygments_lexer": "ipython3",
   "version": "3.12.2"
  }
 },
 "nbformat": 4,
 "nbformat_minor": 2
}
